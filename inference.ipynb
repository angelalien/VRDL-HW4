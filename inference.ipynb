{
  "nbformat": 4,
  "nbformat_minor": 0,
  "metadata": {
    "colab": {
      "name": "inference.ipynb",
      "provenance": []
    },
    "kernelspec": {
      "name": "python3",
      "display_name": "Python 3"
    },
    "language_info": {
      "name": "python"
    },
    "accelerator": "GPU"
  },
  "cells": [
    {
      "cell_type": "markdown",
      "source": [
        "# STEP 1: Install your requirements"
      ],
      "metadata": {
        "id": "n8yYQBUQPrEU"
      }
    },
    {
      "cell_type": "code",
      "source": [
        "!pip install super-image"
      ],
      "metadata": {
        "colab": {
          "base_uri": "https://localhost:8080/"
        },
        "id": "KhdvZMNOQDbC",
        "outputId": "a4c6c431-e737-4c61-b392-102fe7f325f8"
      },
      "execution_count": 1,
      "outputs": [
        {
          "output_type": "stream",
          "name": "stdout",
          "text": [
            "Collecting super-image\n",
            "  Downloading super_image-0.1.6-py3-none-any.whl (85 kB)\n",
            "\u001b[K     |████████████████████████████████| 85 kB 1.5 MB/s \n",
            "\u001b[?25hCollecting torchvision==0.10.0\n",
            "  Downloading torchvision-0.10.0-cp37-cp37m-manylinux1_x86_64.whl (22.1 MB)\n",
            "\u001b[K     |████████████████████████████████| 22.1 MB 1.6 MB/s \n",
            "\u001b[?25hCollecting tqdm==4.61.2\n",
            "  Downloading tqdm-4.61.2-py2.py3-none-any.whl (76 kB)\n",
            "\u001b[K     |████████████████████████████████| 76 kB 4.2 MB/s \n",
            "\u001b[?25hRequirement already satisfied: h5py==3.1.0 in /usr/local/lib/python3.7/dist-packages (from super-image) (3.1.0)\n",
            "Collecting opencv-python==4.5.2.54\n",
            "  Downloading opencv_python-4.5.2.54-cp37-cp37m-manylinux2014_x86_64.whl (51.0 MB)\n",
            "\u001b[K     |████████████████████████████████| 51.0 MB 152 kB/s \n",
            "\u001b[?25hCollecting torch==1.9.0\n",
            "  Downloading torch-1.9.0-cp37-cp37m-manylinux1_x86_64.whl (831.4 MB)\n",
            "\u001b[K     |████████████████████████████████| 831.4 MB 2.8 kB/s \n",
            "\u001b[?25hCollecting huggingface-hub<0.0.14,>=0.0.13\n",
            "  Downloading huggingface_hub-0.0.13-py3-none-any.whl (38 kB)\n",
            "Requirement already satisfied: numpy>=1.14.5 in /usr/local/lib/python3.7/dist-packages (from h5py==3.1.0->super-image) (1.19.5)\n",
            "Requirement already satisfied: cached-property in /usr/local/lib/python3.7/dist-packages (from h5py==3.1.0->super-image) (1.5.2)\n",
            "Requirement already satisfied: typing-extensions in /usr/local/lib/python3.7/dist-packages (from torch==1.9.0->super-image) (3.10.0.2)\n",
            "Requirement already satisfied: pillow>=5.3.0 in /usr/local/lib/python3.7/dist-packages (from torchvision==0.10.0->super-image) (7.1.2)\n",
            "Requirement already satisfied: importlib-metadata in /usr/local/lib/python3.7/dist-packages (from huggingface-hub<0.0.14,>=0.0.13->super-image) (4.10.0)\n",
            "Requirement already satisfied: packaging>=20.9 in /usr/local/lib/python3.7/dist-packages (from huggingface-hub<0.0.14,>=0.0.13->super-image) (21.3)\n",
            "Requirement already satisfied: requests in /usr/local/lib/python3.7/dist-packages (from huggingface-hub<0.0.14,>=0.0.13->super-image) (2.23.0)\n",
            "Requirement already satisfied: filelock in /usr/local/lib/python3.7/dist-packages (from huggingface-hub<0.0.14,>=0.0.13->super-image) (3.4.2)\n",
            "Requirement already satisfied: pyparsing!=3.0.5,>=2.0.2 in /usr/local/lib/python3.7/dist-packages (from packaging>=20.9->huggingface-hub<0.0.14,>=0.0.13->super-image) (3.0.6)\n",
            "Requirement already satisfied: zipp>=0.5 in /usr/local/lib/python3.7/dist-packages (from importlib-metadata->huggingface-hub<0.0.14,>=0.0.13->super-image) (3.7.0)\n",
            "Requirement already satisfied: certifi>=2017.4.17 in /usr/local/lib/python3.7/dist-packages (from requests->huggingface-hub<0.0.14,>=0.0.13->super-image) (2021.10.8)\n",
            "Requirement already satisfied: urllib3!=1.25.0,!=1.25.1,<1.26,>=1.21.1 in /usr/local/lib/python3.7/dist-packages (from requests->huggingface-hub<0.0.14,>=0.0.13->super-image) (1.24.3)\n",
            "Requirement already satisfied: idna<3,>=2.5 in /usr/local/lib/python3.7/dist-packages (from requests->huggingface-hub<0.0.14,>=0.0.13->super-image) (2.10)\n",
            "Requirement already satisfied: chardet<4,>=3.0.2 in /usr/local/lib/python3.7/dist-packages (from requests->huggingface-hub<0.0.14,>=0.0.13->super-image) (3.0.4)\n",
            "Installing collected packages: tqdm, torch, torchvision, opencv-python, huggingface-hub, super-image\n",
            "  Attempting uninstall: tqdm\n",
            "    Found existing installation: tqdm 4.62.3\n",
            "    Uninstalling tqdm-4.62.3:\n",
            "      Successfully uninstalled tqdm-4.62.3\n",
            "  Attempting uninstall: torch\n",
            "    Found existing installation: torch 1.10.0+cu111\n",
            "    Uninstalling torch-1.10.0+cu111:\n",
            "      Successfully uninstalled torch-1.10.0+cu111\n",
            "  Attempting uninstall: torchvision\n",
            "    Found existing installation: torchvision 0.11.1+cu111\n",
            "    Uninstalling torchvision-0.11.1+cu111:\n",
            "      Successfully uninstalled torchvision-0.11.1+cu111\n",
            "  Attempting uninstall: opencv-python\n",
            "    Found existing installation: opencv-python 4.1.2.30\n",
            "    Uninstalling opencv-python-4.1.2.30:\n",
            "      Successfully uninstalled opencv-python-4.1.2.30\n",
            "\u001b[31mERROR: pip's dependency resolver does not currently take into account all the packages that are installed. This behaviour is the source of the following dependency conflicts.\n",
            "torchtext 0.11.0 requires torch==1.10.0, but you have torch 1.9.0 which is incompatible.\n",
            "torchaudio 0.10.0+cu111 requires torch==1.10.0, but you have torch 1.9.0 which is incompatible.\n",
            "albumentations 0.1.12 requires imgaug<0.2.7,>=0.2.5, but you have imgaug 0.2.9 which is incompatible.\u001b[0m\n",
            "Successfully installed huggingface-hub-0.0.13 opencv-python-4.5.2.54 super-image-0.1.6 torch-1.9.0 torchvision-0.10.0 tqdm-4.61.2\n"
          ]
        }
      ]
    },
    {
      "cell_type": "code",
      "execution_count": 2,
      "metadata": {
        "id": "20aatInGPcK_"
      },
      "outputs": [],
      "source": [
        "import os\n",
        "from google_drive_downloader import GoogleDriveDownloader as gdd\n",
        "from PIL import Image\n",
        "from super_image import EdsrModel, ImageLoader\n",
        "from google.colab import files"
      ]
    },
    {
      "cell_type": "markdown",
      "source": [
        "# STEP 2: Wget testing data, pretrained weight and config"
      ],
      "metadata": {
        "id": "jKAkT3GEPu3y"
      }
    },
    {
      "cell_type": "code",
      "source": [
        "# Download testing data\n",
        "gdd.download_file_from_google_drive(file_id='1GL_Rh1N-WjrvF_-YOKOyvq0zrV6TF4hb',\n",
        "                  dest_path='./dataset/HW_data.zip',\n",
        "                  unzip=True)"
      ],
      "metadata": {
        "colab": {
          "base_uri": "https://localhost:8080/"
        },
        "id": "kolA9-AOQ3xM",
        "outputId": "4bea0b8f-a9aa-456a-e603-325f1d986f48"
      },
      "execution_count": 3,
      "outputs": [
        {
          "output_type": "stream",
          "name": "stdout",
          "text": [
            "Downloading 1GL_Rh1N-WjrvF_-YOKOyvq0zrV6TF4hb into ./dataset/HW_data.zip... Done.\n",
            "Unzipping...Done.\n"
          ]
        }
      ]
    },
    {
      "cell_type": "code",
      "source": [
        "# Download pretrained weight\n",
        "gdd.download_file_from_google_drive(file_id='10edK-zM_1l7e2Fvf3FR-UFw5cbKeEXba',\n",
        "                  dest_path='./model/pytorch_model_3x.pt',\n",
        "                  unzip=False)\n",
        "# Download model config\n",
        "gdd.download_file_from_google_drive(file_id='1JVDZbANgLu_Oo85iSP22bRrULDS87pis',\n",
        "                  dest_path='./model/config.json',\n",
        "                  unzip=False)"
      ],
      "metadata": {
        "colab": {
          "base_uri": "https://localhost:8080/"
        },
        "id": "8SFuZF_rQ610",
        "outputId": "962a13be-1d25-4af7-d740-afac297c7730"
      },
      "execution_count": 4,
      "outputs": [
        {
          "output_type": "stream",
          "name": "stdout",
          "text": [
            "Downloading 10edK-zM_1l7e2Fvf3FR-UFw5cbKeEXba into ./model/pytorch_model_3x.pt... Done.\n",
            "Downloading 1JVDZbANgLu_Oo85iSP22bRrULDS87pis into ./model/config.json... Done.\n"
          ]
        }
      ]
    },
    {
      "cell_type": "markdown",
      "source": [
        "# STEP 3: Generate images for submission\n",
        "The predicted images are in the 'output' folder"
      ],
      "metadata": {
        "id": "6TdHNEPcReaw"
      }
    },
    {
      "cell_type": "code",
      "source": [
        "test_listdir = os.listdir(\"./dataset/testing_lr_images/testing_lr_images\")\n",
        "model_trained = EdsrModel.from_pretrained('./model', scale=3)\n",
        "if not os.path.isdir('./output'):\n",
        "    os.mkdir('./output')\n",
        "for i,img_name in enumerate(test_listdir):\n",
        "  image = Image.open(\"./dataset/testing_lr_images/testing_lr_images/\"+img_name)\n",
        "  inputs = ImageLoader.load_image(image)\n",
        "  preds = model_trained(inputs)\n",
        "  ImageLoader.save_image(preds, './output/'+img_name[:-4]+'_pred.png')"
      ],
      "metadata": {
        "colab": {
          "base_uri": "https://localhost:8080/"
        },
        "id": "F3gVXs3wRe07",
        "outputId": "f097eb6d-507e-416a-ebfe-4f939281a484"
      },
      "execution_count": 5,
      "outputs": [
        {
          "output_type": "stream",
          "name": "stdout",
          "text": [
            "./model/pytorch_model_3x.pt\n"
          ]
        }
      ]
    },
    {
      "cell_type": "code",
      "source": [
        "# Download the output folder\n",
        "!zip -r ./output.zip ./output/\n",
        "files.download(\"./output.zip\")"
      ],
      "metadata": {
        "id": "7YGNeAV7Rrmy",
        "colab": {
          "base_uri": "https://localhost:8080/",
          "height": 277
        },
        "outputId": "e6b8aaba-b752-42f4-acc3-114786ea3455"
      },
      "execution_count": 6,
      "outputs": [
        {
          "output_type": "stream",
          "name": "stdout",
          "text": [
            "  adding: output/ (stored 0%)\n",
            "  adding: output/09_pred.png (deflated 3%)\n",
            "  adding: output/06_pred.png (deflated 0%)\n",
            "  adding: output/05_pred.png (deflated 1%)\n",
            "  adding: output/07_pred.png (deflated 5%)\n",
            "  adding: output/01_pred.png (deflated 1%)\n",
            "  adding: output/08_pred.png (deflated 1%)\n",
            "  adding: output/12_pred.png (deflated 0%)\n",
            "  adding: output/04_pred.png (deflated 1%)\n",
            "  adding: output/02_pred.png (deflated 0%)\n",
            "  adding: output/11_pred.png (deflated 0%)\n",
            "  adding: output/10_pred.png (deflated 3%)\n",
            "  adding: output/00_pred.png (deflated 1%)\n",
            "  adding: output/13_pred.png (deflated 4%)\n",
            "  adding: output/03_pred.png (deflated 1%)\n"
          ]
        },
        {
          "output_type": "display_data",
          "data": {
            "application/javascript": [
              "\n",
              "    async function download(id, filename, size) {\n",
              "      if (!google.colab.kernel.accessAllowed) {\n",
              "        return;\n",
              "      }\n",
              "      const div = document.createElement('div');\n",
              "      const label = document.createElement('label');\n",
              "      label.textContent = `Downloading \"${filename}\": `;\n",
              "      div.appendChild(label);\n",
              "      const progress = document.createElement('progress');\n",
              "      progress.max = size;\n",
              "      div.appendChild(progress);\n",
              "      document.body.appendChild(div);\n",
              "\n",
              "      const buffers = [];\n",
              "      let downloaded = 0;\n",
              "\n",
              "      const channel = await google.colab.kernel.comms.open(id);\n",
              "      // Send a message to notify the kernel that we're ready.\n",
              "      channel.send({})\n",
              "\n",
              "      for await (const message of channel.messages) {\n",
              "        // Send a message to notify the kernel that we're ready.\n",
              "        channel.send({})\n",
              "        if (message.buffers) {\n",
              "          for (const buffer of message.buffers) {\n",
              "            buffers.push(buffer);\n",
              "            downloaded += buffer.byteLength;\n",
              "            progress.value = downloaded;\n",
              "          }\n",
              "        }\n",
              "      }\n",
              "      const blob = new Blob(buffers, {type: 'application/binary'});\n",
              "      const a = document.createElement('a');\n",
              "      a.href = window.URL.createObjectURL(blob);\n",
              "      a.download = filename;\n",
              "      div.appendChild(a);\n",
              "      a.click();\n",
              "      div.remove();\n",
              "    }\n",
              "  "
            ],
            "text/plain": [
              "<IPython.core.display.Javascript object>"
            ]
          },
          "metadata": {}
        },
        {
          "output_type": "display_data",
          "data": {
            "application/javascript": [
              "download(\"download_f9fdadd1-ab1b-4904-9dba-7437ea8093c6\", \"output.zip\", 5158519)"
            ],
            "text/plain": [
              "<IPython.core.display.Javascript object>"
            ]
          },
          "metadata": {}
        }
      ]
    }
  ]
}